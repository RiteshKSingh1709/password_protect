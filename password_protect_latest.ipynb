{
 "cells": [
  {
   "cell_type": "code",
   "execution_count": 28,
   "metadata": {},
   "outputs": [
    {
     "name": "stdout",
     "output_type": "stream",
     "text": [
      "Enter the MASTER KEY :········\n"
     ]
    },
    {
     "name": "stderr",
     "output_type": "stream",
     "text": [
      "\r",
      "  0%|          | 0/5 [00:00<?, ?it/s]"
     ]
    },
    {
     "name": "stdout",
     "output_type": "stream",
     "text": [
      "File is not created for this system .Let's create the file ...\n",
      "Creating file ...\n"
     ]
    },
    {
     "name": "stderr",
     "output_type": "stream",
     "text": [
      "100%|██████████| 5/5 [00:05<00:00,  1.00s/it]\n"
     ]
    },
    {
     "name": "stdout",
     "output_type": "stream",
     "text": [
      "File has been created successfully .. !!\n",
      "\t\t\t\t******************************************\n",
      "\t\t\t\t*        Choose Option[1-4]              *\n",
      "\t\t\t\t*        1> Insert New Record            *\n",
      "\t\t\t\t*        2> Retrieve Data                *\n",
      "\t\t\t\t*        3>Update Record                 *\n",
      "\t\t\t\t*        4>All appname registerd         *\n",
      "\t\t\t\t*        5>Quit                          *\n",
      "\t\t\t\t******************************************\n",
      "Enter your Option : 5\n"
     ]
    }
   ],
   "source": [
    "###################\n",
    "# Author : Ritesh Kumar\n",
    "##################\n",
    "\n",
    "\n",
    "import sys\n",
    "import getpass\n",
    "import platform\n",
    "import os\n",
    "import time\n",
    "from tqdm import tqdm\n",
    "from IPython.display import clear_output\n",
    "from prettytable import PrettyTable\n",
    "\n",
    "l_masterkey = 0\n",
    "MASTER_KEY,PATH,pretty_table = '','',''\n",
    "\n",
    "def create_file(PATH):\n",
    "    try:\n",
    "        fopen = None\n",
    "        fopen = open(PATH+'/pass_gen.txt','a+')\n",
    "        print(\"Creating file ...\")\n",
    "        for i in tqdm(range(5)):\n",
    "            time.sleep(1)\n",
    "        print(\"File has been created successfully .. !!\")\n",
    "        return fopen\n",
    "    except:\n",
    "        print(\"Oops something went wrong (is it permission error)\")\n",
    "        \n",
    "def initialize_app():\n",
    "    global PATH,MASTER_KEY,loop,l_masterkey,pretty_table\n",
    "    \n",
    "    MASTER_KEY = getpass.getpass('Enter the MASTER KEY :')\n",
    "    l_masterkey = len(MASTER_KEY)\n",
    "    \n",
    "    pretty_table = PrettyTable()\n",
    "    \n",
    "    PATH = ''\n",
    "    user = getpass.getuser()\n",
    "    if(platform.system()=='Windows'):\n",
    "        PATH = 'C://'+ user\n",
    "        if os.path.exists(PATH + '/pass_gen.txt'):\n",
    "            os.chdir(PATH)\n",
    "        else:\n",
    "            print(\"File is not created for this system .Let's create the file ...\")\n",
    "            fopen = create_file(PATH)\n",
    "    else:\n",
    "        PATH = '/home/' + user\n",
    "        if os.path.exists(PATH + '/pass_gen.txt'):\n",
    "            os.chdir(PATH)\n",
    "        else:\n",
    "            print(\"File is not created for this system .Let's create the file ...\")\n",
    "            fopen = create_file(PATH)\n",
    "            \n",
    "    return fopen\n",
    "\n",
    "def get_hash(str_):\n",
    "    global l_masterkey,MASTER_KEY\n",
    "    result = ''\n",
    "    for i in range(len(str_)):\n",
    "        result += chr(ord(str_[i]) + ord(MASTER_KEY[i%(l_masterkey)]))\n",
    "    return result\n",
    "\n",
    "def get_plain_text(str_):\n",
    "    global l_masterkey, MASTER_KEY\n",
    "    result = ''\n",
    "    for i in range(len(str_)):\n",
    "        result += chr(ord(str_[i])-ord(MASTER_KEY[i%(l_masterkey)]))\n",
    "    return result\n",
    "\n",
    "def display_output(appName,userName,password,add_info):\n",
    "    global pretty_table\n",
    "    try:\n",
    "        pretty_table.field_names = [\"App Name\", \"UserName\", \"Password\", \"Additional Info\"]\n",
    "        pretty_table.add_row([appName,userName, password, add_info])\n",
    "        print(pretty_table)\n",
    "        return 1\n",
    "    except:\n",
    "        return 0\n",
    "\n",
    "\n",
    "def run(fopen,DEBUG=False):\n",
    "    global MASTER_KEY\n",
    "    loop = True\n",
    "    while loop:  \n",
    "        clear_output()\n",
    "        print(\"\\t\\t\\t\\t******************************************\")\n",
    "        print(\"\\t\\t\\t\\t*        Choose Option[1-4]              *\")\n",
    "        print(\"\\t\\t\\t\\t*        1> Insert New Record            *\")\n",
    "        print(\"\\t\\t\\t\\t*        2> Retrieve Data                *\")\n",
    "        print(\"\\t\\t\\t\\t*        3>Update Record                 *\")\n",
    "        print(\"\\t\\t\\t\\t*        4>All appname registerd         *\")\n",
    "        print(\"\\t\\t\\t\\t*        5>Quit                          *\")\n",
    "        print(\"\\t\\t\\t\\t******************************************\")\n",
    "        select = input(\"Enter your Option : \")\n",
    "\n",
    "        # Insert New Records Here \n",
    "        if(select=='1'):\n",
    "            app_name = input(\"Enter tha app name :\").strip()\n",
    "            user_name = input(\"Enter the user name\")\n",
    "            password = getpass.getpass('Enter password for that :')\n",
    "            if DEBUG:\n",
    "                print(type(MASTER_KEY),type(password))\n",
    "            add_info = temp = ''\n",
    "            hashed_password = get_hash(password)\n",
    "            hashed_user = get_hash(user_name)\n",
    "\n",
    "            choice = input(\"Any additional info for this you want to save (y/n)\")\n",
    "            if choice=='y' or choice=='Y':\n",
    "                add_info = input(\"Enter the info :\")\n",
    "            else:\n",
    "                add_info = ''\n",
    "            data_file.write(app_name+'||'+hashed_user+'||'+hashed_password+'||'+add_info+'\\n')\n",
    "            print(\"Records has been successfully Entered for {}!!\".format(app_name))\n",
    "            \n",
    "        # Retrieve Records here \n",
    "        elif select=='2':\n",
    "            flag = False\n",
    "            app_name = input(\"Enter the app name\").strip()\n",
    "            for line in fopen.readlines():\n",
    "                if(line.split('||')[0].lower() == app_name.lower()):\n",
    "                    temp = ''\n",
    "                    user_name = get_plain_text(line.split(\"||\")[1])\n",
    "                    password = get_plain_text(line.split('||')[2])\n",
    "                    if line.split('||')[2]=='':\n",
    "                        print(\"Nothing Saved\")\n",
    "                    else:\n",
    "                        add_info = format(line.split('||')[2])\n",
    "                    \n",
    "                    if DEBUG:\n",
    "                        print(\"Printing password\",password)\n",
    "                        \n",
    "                    _ = display_output(app_name,user_name,password)\n",
    "                    \n",
    "                    flag = True\n",
    "                    break\n",
    "                    \n",
    "            if flag == False:\n",
    "                print(\"No such app name found !!!\")\n",
    "                \n",
    "        # Update any new information about record..!!\n",
    "        elif select == '3':\n",
    "            app_name = input(\"Enter the app name/Email ID: \").strip()\n",
    "            print(\"Select what you want to update (1)App Name/(2)Password/(3)Additional Info\")\n",
    "            choice = input(\"Enter your choice [1-3]: \").strip()\n",
    "            if(choice == '1'):\n",
    "                with open('pass_gen.txt','r+') as data_file:\n",
    "                    for line in data_file.readlines():\n",
    "                        if(line.split('||')[0]==app_name):\n",
    "                            updName = input(\"Enter new App name:\").strip()\n",
    "                            print(\"coming here\")\n",
    "                            line.split('||')[0] = updName\n",
    "            elif(choice == '2'):\n",
    "                pass\n",
    "            elif(choice == '3'):\n",
    "                pass\n",
    "            else:\n",
    "                print(\"You selected Inavlid Option .!!\")\n",
    "        # See all the app name registered till now..!!\n",
    "        elif select =='4':\n",
    "            with open('pass_gen.txt','r+') as data_file:\n",
    "                print(\"All apps registered till now .\")\n",
    "                count = 0\n",
    "                for line in data_file.readlines():\n",
    "                    if line.strip() not in  ['',None]:\n",
    "                        print('    %d. '%(count+1)+line.split('||')[0])\n",
    "                    count += 1\n",
    "                print(\"%d App's/Email's are found\"%(count))\n",
    "        # For Exit ..!!\n",
    "        elif select == '5':\n",
    "            loop = False\n",
    "        # When selection is Invalid\n",
    "        else:\n",
    "            print(\"Invalid Entry\")\n",
    "        \n",
    "if __name__ == '__main__':\n",
    "    fopen = initialize_app()\n",
    "    if fopen == None:\n",
    "        print(\"OOPS Something went wrong .. !!\")\n",
    "    else:\n",
    "        run(fopen,DEBUG=True)"
   ]
  },
  {
   "cell_type": "code",
   "execution_count": 26,
   "metadata": {},
   "outputs": [
    {
     "data": {
      "text/plain": [
       "True"
      ]
     },
     "execution_count": 26,
     "metadata": {},
     "output_type": "execute_result"
    }
   ],
   "source": [
    "os.path.exists('/home/ritesh/pass_gen.txt')"
   ]
  },
  {
   "cell_type": "code",
   "execution_count": 8,
   "metadata": {},
   "outputs": [
    {
     "data": {
      "text/plain": [
       "'ritesh'"
      ]
     },
     "execution_count": 8,
     "metadata": {},
     "output_type": "execute_result"
    }
   ],
   "source": [
    "getpass.getuser()"
   ]
  },
  {
   "cell_type": "code",
   "execution_count": 10,
   "metadata": {},
   "outputs": [],
   "source": [
    "!touch pass_gen.txt"
   ]
  },
  {
   "cell_type": "code",
   "execution_count": 14,
   "metadata": {},
   "outputs": [],
   "source": [
    "!rm -rf pass_gen.txt"
   ]
  },
  {
   "cell_type": "code",
   "execution_count": 15,
   "metadata": {},
   "outputs": [],
   "source": [
    "!touch /home/ritesh/pass_gen.txt"
   ]
  },
  {
   "cell_type": "code",
   "execution_count": 27,
   "metadata": {},
   "outputs": [],
   "source": [
    "!rm -rf /home/ritesh/pass_gen.txt"
   ]
  },
  {
   "cell_type": "code",
   "execution_count": 30,
   "metadata": {},
   "outputs": [
    {
     "name": "stdout",
     "output_type": "stream",
     "text": [
      "Hello worlds\n"
     ]
    }
   ],
   "source": [
    "from IPython.display import clear_output\n",
    "for i in range(5):\n",
    "    clear_output()\n",
    "    print(\"Hello worlds\")"
   ]
  },
  {
   "cell_type": "code",
   "execution_count": 31,
   "metadata": {},
   "outputs": [
    {
     "ename": "ModuleNotFoundError",
     "evalue": "No module named 'pretty_table'",
     "output_type": "error",
     "traceback": [
      "\u001b[0;31m---------------------------------------------------------------------------\u001b[0m",
      "\u001b[0;31mModuleNotFoundError\u001b[0m                       Traceback (most recent call last)",
      "\u001b[0;32m<ipython-input-31-984b5eb817d1>\u001b[0m in \u001b[0;36m<module>\u001b[0;34m\u001b[0m\n\u001b[0;32m----> 1\u001b[0;31m \u001b[0;32mimport\u001b[0m \u001b[0mpretty_table\u001b[0m\u001b[0;34m\u001b[0m\u001b[0m\n\u001b[0m",
      "\u001b[0;31mModuleNotFoundError\u001b[0m: No module named 'pretty_table'"
     ]
    }
   ],
   "source": [
    "import pretty_table"
   ]
  },
  {
   "cell_type": "code",
   "execution_count": 34,
   "metadata": {},
   "outputs": [],
   "source": [
    "from prettytable import PrettyTable"
   ]
  },
  {
   "cell_type": "code",
   "execution_count": 33,
   "metadata": {},
   "outputs": [
    {
     "name": "stdout",
     "output_type": "stream",
     "text": [
      "Collecting PrettyTable\n",
      "  Downloading https://files.pythonhosted.org/packages/ef/30/4b0746848746ed5941f052479e7c23d2b56d174b82f4fd34a25e389831f5/prettytable-0.7.2.tar.bz2\n",
      "Building wheels for collected packages: PrettyTable\n",
      "  Running setup.py bdist_wheel for PrettyTable ... \u001b[?25ldone\n",
      "\u001b[?25h  Stored in directory: /home/ritesh/.cache/pip/wheels/80/34/1c/3967380d9676d162cb59513bd9dc862d0584e045a162095606\n",
      "Successfully built PrettyTable\n",
      "Installing collected packages: PrettyTable\n",
      "Successfully installed PrettyTable-0.7.2\n"
     ]
    }
   ],
   "source": [
    "!pip install PrettyTable"
   ]
  },
  {
   "cell_type": "code",
   "execution_count": null,
   "metadata": {},
   "outputs": [],
   "source": []
  }
 ],
 "metadata": {
  "kernelspec": {
   "display_name": "Python 3",
   "language": "python",
   "name": "python3"
  },
  "language_info": {
   "codemirror_mode": {
    "name": "ipython",
    "version": 3
   },
   "file_extension": ".py",
   "mimetype": "text/x-python",
   "name": "python",
   "nbconvert_exporter": "python",
   "pygments_lexer": "ipython3",
   "version": "3.6.6"
  }
 },
 "nbformat": 4,
 "nbformat_minor": 2
}
